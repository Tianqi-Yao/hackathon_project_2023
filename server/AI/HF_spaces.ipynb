{
 "cells": [
  {
   "cell_type": "code",
   "execution_count": null,
   "metadata": {},
   "outputs": [],
   "source": [
    "! pip install flask\n",
    "! pip install gradio-client"
   ]
  },
  {
   "cell_type": "code",
   "execution_count": 1,
   "metadata": {},
   "outputs": [
    {
     "name": "stdout",
     "output_type": "stream",
     "text": [
      " * Serving Flask app '__main__'\n",
      " * Debug mode: off\n"
     ]
    },
    {
     "name": "stderr",
     "output_type": "stream",
     "text": [
      "/Users/tianqiyao/miniconda3/envs/yao/lib/python3.11/site-packages/tqdm/auto.py:21: TqdmWarning: IProgress not found. Please update jupyter and ipywidgets. See https://ipywidgets.readthedocs.io/en/stable/user_install.html\n",
      "  from .autonotebook import tqdm as notebook_tqdm\n",
      "\u001b[31m\u001b[1mWARNING: This is a development server. Do not use it in a production deployment. Use a production WSGI server instead.\u001b[0m\n",
      " * Running on all addresses (0.0.0.0)\n",
      " * Running on http://127.0.0.1:3010\n",
      " * Running on http://192.168.1.145:3010\n",
      "\u001b[33mPress CTRL+C to quit\u001b[0m\n"
     ]
    },
    {
     "name": "stdout",
     "output_type": "stream",
     "text": [
      "connect to HF_spaces\n",
      "Loaded as API: https://jollyomnivore-fusion92-chatgpt-sandbox.hf.space/ ✔\n"
     ]
    },
    {
     "name": "stderr",
     "output_type": "stream",
     "text": [
      "127.0.0.1 - - [06/Jul/2023 10:53:35] \"POST / HTTP/1.1\" 200 -\n"
     ]
    },
    {
     "name": "stdout",
     "output_type": "stream",
     "text": [
      "connect to HF_spaces\n",
      "Loaded as API: https://jollyomnivore-fusion92-chatgpt-sandbox.hf.space/ ✔\n"
     ]
    },
    {
     "name": "stderr",
     "output_type": "stream",
     "text": [
      "127.0.0.1 - - [06/Jul/2023 11:07:24] \"POST / HTTP/1.1\" 200 -\n"
     ]
    },
    {
     "name": "stdout",
     "output_type": "stream",
     "text": [
      "connect to HF_spaces\n",
      "Loaded as API: https://jollyomnivore-fusion92-chatgpt-sandbox.hf.space/ ✔\n"
     ]
    },
    {
     "name": "stderr",
     "output_type": "stream",
     "text": [
      "127.0.0.1 - - [06/Jul/2023 11:15:15] \"POST / HTTP/1.1\" 200 -\n"
     ]
    }
   ],
   "source": [
    "from flask import Flask, request, jsonify\n",
    "from gradio_client import Client\n",
    "\n",
    "app = Flask(__name__)\n",
    "\n",
    "@app.route('/', methods=['POST'])\n",
    "def chatgpt():\n",
    "    data = request.get_json()  # 获取JSON数据\n",
    "    content = data.get('content')  # 从JSON数据中获取'number'字段\n",
    "    if content is None:\n",
    "        response = {\n",
    "            'error': 'No number provided.',\n",
    "        }\n",
    "    else:\n",
    "        print('connect to HF_spaces')\n",
    "        client = Client(\"https://jollyomnivore-fusion92-chatgpt-sandbox.hf.space/\")\n",
    "        result = client.predict(\n",
    "            content,\t# str  in 'user_input' Textbox component\n",
    "            \"\",\t# str  in 'AI_Role' Textbox component\n",
    "            api_name=\"/predict\"\n",
    "        )\n",
    "        print('finish HF_spaces')\n",
    "        response = {\n",
    "            'result': result, \n",
    "        }\n",
    "    return jsonify(response)  # 将结果转换为JSON格式并返回\n",
    "\n",
    "if __name__ == '__main__':\n",
    "    app.run(host='0.0.0.0', port=3010)  # 在本地的3010端口运行服务器\n"
   ]
  }
 ],
 "metadata": {
  "kernelspec": {
   "display_name": "Python 3",
   "language": "python",
   "name": "python3"
  },
  "language_info": {
   "codemirror_mode": {
    "name": "ipython",
    "version": 3
   },
   "file_extension": ".py",
   "mimetype": "text/x-python",
   "name": "python",
   "nbconvert_exporter": "python",
   "pygments_lexer": "ipython3",
   "version": "3.11.3"
  },
  "orig_nbformat": 4
 },
 "nbformat": 4,
 "nbformat_minor": 2
}
